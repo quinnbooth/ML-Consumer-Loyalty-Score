{
 "cells": [
  {
   "cell_type": "markdown",
   "metadata": {},
   "source": [
    "# Customer Loyalty Score Preprocessing"
   ]
  },
  {
   "cell_type": "code",
   "execution_count": 3,
   "metadata": {},
   "outputs": [],
   "source": [
    "import numpy as np\n",
    "import pandas as pd\n",
    "import numpy as np\n",
    "import pandas as pd\n",
    "import time\n",
    "from datetime import datetime "
   ]
  },
  {
   "cell_type": "code",
   "execution_count": 2,
   "metadata": {},
   "outputs": [],
   "source": [
    "import warnings\n",
    "warnings.filterwarnings(\"ignore\")"
   ]
  },
  {
   "cell_type": "markdown",
   "metadata": {},
   "source": [
    "## Import/Optimize Datasets"
   ]
  },
  {
   "cell_type": "code",
   "execution_count": 4,
   "metadata": {},
   "outputs": [],
   "source": [
    "def get_memory_size(dataframe):\n",
    "    return dataframe.memory_usage(deep=True).sum() / (1024 ** 2)\n",
    "\n",
    "def optimize_memory_usage(dataframe):\n",
    "    optimized_df = pd.DataFrame()\n",
    "\n",
    "    for col in dataframe.columns:\n",
    "        original_col = dataframe[col]\n",
    "        if original_col.dtypes == 'int':\n",
    "            optimized_col = pd.to_numeric(original_col, downcast='integer')\n",
    "\n",
    "        elif original_col.dtypes == 'float':\n",
    "            optimized_col = pd.to_numeric(original_col, downcast='float')\n",
    "\n",
    "        elif original_col.dtypes == 'object':\n",
    "            if len(original_col) / len(original_col.unique()) > 0.5:\n",
    "                optimized_col = original_col.astype('category')\n",
    "\n",
    "            else:\n",
    "                optimized_col = original_col\n",
    "        else:\n",
    "            optimized_col = original_col\n",
    "\n",
    "        optimized_df[col] = optimized_col\n",
    "\n",
    "    return optimized_df\n",
    "\n",
    "def get_reduced_df(dataframe_chunks):\n",
    "  optimized_dfs = []\n",
    "\n",
    "  for chunk in dataframe_chunks:\n",
    "      optimized_df_chunk = optimize_memory_usage(chunk)\n",
    "      optimized_dfs.append(optimized_df_chunk)\n",
    "\n",
    "  return pd.concat(optimized_dfs)"
   ]
  },
  {
   "cell_type": "code",
   "execution_count": 5,
   "metadata": {},
   "outputs": [
    {
     "name": "stdout",
     "output_type": "stream",
     "text": [
      "time to load historical_transactions 95 seconds\n",
      "time to load merchants 1 seconds\n",
      "time to load new_merchant_transactions 6 seconds\n",
      "time to load train 0 seconds\n",
      "time to load test 0 seconds\n"
     ]
    }
   ],
   "source": [
    "chunk_size = 20000\n",
    "\n",
    "historical_transactions_chunks = pd.read_csv('./Data/historical_transactions.csv', chunksize=chunk_size)\n",
    "merchants_chunks = pd.read_csv('./Data/merchants.csv', chunksize=chunk_size)\n",
    "new_merchant_transactions_chunks = pd.read_csv('./Data/new_merchant_transactions.csv', chunksize=chunk_size)\n",
    "train_chunks = pd.read_csv('./Data/train.csv', chunksize=chunk_size)\n",
    "test_chunks = pd.read_csv('./Data/test.csv', chunksize=chunk_size)\n",
    "\n",
    "start_time = time.time()\n",
    "historical_transactions = get_reduced_df(historical_transactions_chunks)\n",
    "del historical_transactions_chunks\n",
    "print(\"time to load historical_transactions {} seconds\".format(int(time.time() - start_time)))\n",
    "\n",
    "start_time = time.time()\n",
    "merchants = get_reduced_df(merchants_chunks)\n",
    "del merchants_chunks\n",
    "print(\"time to load merchants {} seconds\".format(int(time.time() - start_time)))\n",
    "\n",
    "start_time = time.time()\n",
    "new_merchant_transactions = get_reduced_df(new_merchant_transactions_chunks)\n",
    "del new_merchant_transactions_chunks\n",
    "print(\"time to load new_merchant_transactions {} seconds\".format(int(time.time() - start_time)))\n",
    "\n",
    "start_time = time.time()\n",
    "train = get_reduced_df(train_chunks)\n",
    "del train_chunks\n",
    "print(\"time to load train {} seconds\".format(int(time.time() - start_time)))\n",
    "\n",
    "start_time = time.time()\n",
    "test = get_reduced_df(test_chunks)\n",
    "del test_chunks\n",
    "print(\"time to load test {} seconds\".format(int(time.time() - start_time)))"
   ]
  },
  {
   "cell_type": "markdown",
   "metadata": {},
   "source": [
    "## Merging/Preprocessing Transaction Histories"
   ]
  },
  {
   "cell_type": "code",
   "execution_count": 24,
   "metadata": {},
   "outputs": [],
   "source": [
    "# Remember which entries came from which dataset\n",
    "historical_transactions['new_merchant_flag'] = False\n",
    "new_merchant_transactions['new_merchant_flag'] = True"
   ]
  },
  {
   "cell_type": "code",
   "execution_count": 29,
   "id": "9e4a5379",
   "metadata": {},
   "outputs": [
    {
     "data": {
      "text/plain": [
       "(31075392, 15)"
      ]
     },
     "execution_count": 29,
     "metadata": {},
     "output_type": "execute_result"
    }
   ],
   "source": [
    "transactions = pd.concat([historical_transactions, new_merchant_transactions], ignore_index=True)\n",
    "transactions.shape"
   ]
  },
  {
   "cell_type": "code",
   "execution_count": 30,
   "id": "ba7c262b",
   "metadata": {},
   "outputs": [
    {
     "data": {
      "text/plain": [
       "authorized_flag               0\n",
       "card_id                       0\n",
       "city_id                       0\n",
       "category_1                    0\n",
       "installments                  0\n",
       "category_3               234081\n",
       "merchant_category_id          0\n",
       "merchant_id              164697\n",
       "month_lag                     0\n",
       "purchase_amount               0\n",
       "purchase_date                 0\n",
       "category_2              2764609\n",
       "state_id                      0\n",
       "subsector_id                  0\n",
       "new_merchant_flag             0\n",
       "dtype: int64"
      ]
     },
     "execution_count": 30,
     "metadata": {},
     "output_type": "execute_result"
    }
   ],
   "source": [
    "transactions.isna().sum()"
   ]
  },
  {
   "cell_type": "code",
   "execution_count": 31,
   "id": "8cfbe2bf",
   "metadata": {},
   "outputs": [],
   "source": [
    "# Without merchant_id, entries lose quite a bit of associated information in merchants.csv\n",
    "transactions.dropna(subset=['merchant_id'], inplace=True)"
   ]
  },
  {
   "cell_type": "code",
   "execution_count": 32,
   "metadata": {},
   "outputs": [],
   "source": [
    "transactions['purchase_date'] = pd.to_datetime(transactions['purchase_date'])"
   ]
  },
  {
   "cell_type": "code",
   "execution_count": 33,
   "metadata": {},
   "outputs": [],
   "source": [
    "# Create separate features for year/month/day/hour\n",
    "transactions['year'] = transactions['purchase_date'].dt.year.astype('int16')\n",
    "transactions['month'] = transactions['purchase_date'].dt.month.astype('int16')\n",
    "transactions['day'] = transactions['purchase_date'].dt.day.astype('int16')\n",
    "transactions['hour'] = transactions['purchase_date'].dt.hour.astype('int16')"
   ]
  },
  {
   "cell_type": "code",
   "execution_count": 40,
   "metadata": {},
   "outputs": [
    {
     "data": {
      "text/html": [
       "<div>\n",
       "<style scoped>\n",
       "    .dataframe tbody tr th:only-of-type {\n",
       "        vertical-align: middle;\n",
       "    }\n",
       "\n",
       "    .dataframe tbody tr th {\n",
       "        vertical-align: top;\n",
       "    }\n",
       "\n",
       "    .dataframe thead th {\n",
       "        text-align: right;\n",
       "    }\n",
       "</style>\n",
       "<table border=\"1\" class=\"dataframe\">\n",
       "  <thead>\n",
       "    <tr style=\"text-align: right;\">\n",
       "      <th></th>\n",
       "      <th>authorized_flag</th>\n",
       "      <th>card_id</th>\n",
       "      <th>city_id</th>\n",
       "      <th>category_1</th>\n",
       "      <th>installments</th>\n",
       "      <th>category_3</th>\n",
       "      <th>merchant_category_id</th>\n",
       "      <th>merchant_id</th>\n",
       "      <th>month_lag</th>\n",
       "      <th>purchase_amount</th>\n",
       "      <th>purchase_date</th>\n",
       "      <th>category_2</th>\n",
       "      <th>state_id</th>\n",
       "      <th>subsector_id</th>\n",
       "      <th>new_merchant_flag</th>\n",
       "      <th>year</th>\n",
       "      <th>month</th>\n",
       "      <th>day</th>\n",
       "      <th>hour</th>\n",
       "    </tr>\n",
       "  </thead>\n",
       "  <tbody>\n",
       "    <tr>\n",
       "      <th>0</th>\n",
       "      <td>Y</td>\n",
       "      <td>C_ID_4e6213e9bc</td>\n",
       "      <td>88</td>\n",
       "      <td>N</td>\n",
       "      <td>0</td>\n",
       "      <td>A</td>\n",
       "      <td>80</td>\n",
       "      <td>M_ID_e020e9b302</td>\n",
       "      <td>-8</td>\n",
       "      <td>-0.703331</td>\n",
       "      <td>2017-06-25 15:33:07</td>\n",
       "      <td>1.0</td>\n",
       "      <td>16</td>\n",
       "      <td>37</td>\n",
       "      <td>False</td>\n",
       "      <td>2017</td>\n",
       "      <td>6</td>\n",
       "      <td>25</td>\n",
       "      <td>15</td>\n",
       "    </tr>\n",
       "    <tr>\n",
       "      <th>1</th>\n",
       "      <td>Y</td>\n",
       "      <td>C_ID_4e6213e9bc</td>\n",
       "      <td>88</td>\n",
       "      <td>N</td>\n",
       "      <td>0</td>\n",
       "      <td>A</td>\n",
       "      <td>367</td>\n",
       "      <td>M_ID_86ec983688</td>\n",
       "      <td>-7</td>\n",
       "      <td>-0.733128</td>\n",
       "      <td>2017-07-15 12:10:45</td>\n",
       "      <td>1.0</td>\n",
       "      <td>16</td>\n",
       "      <td>16</td>\n",
       "      <td>False</td>\n",
       "      <td>2017</td>\n",
       "      <td>7</td>\n",
       "      <td>15</td>\n",
       "      <td>12</td>\n",
       "    </tr>\n",
       "    <tr>\n",
       "      <th>2</th>\n",
       "      <td>Y</td>\n",
       "      <td>C_ID_4e6213e9bc</td>\n",
       "      <td>88</td>\n",
       "      <td>N</td>\n",
       "      <td>0</td>\n",
       "      <td>A</td>\n",
       "      <td>80</td>\n",
       "      <td>M_ID_979ed661fc</td>\n",
       "      <td>-6</td>\n",
       "      <td>-0.720386</td>\n",
       "      <td>2017-08-09 22:04:29</td>\n",
       "      <td>1.0</td>\n",
       "      <td>16</td>\n",
       "      <td>37</td>\n",
       "      <td>False</td>\n",
       "      <td>2017</td>\n",
       "      <td>8</td>\n",
       "      <td>9</td>\n",
       "      <td>22</td>\n",
       "    </tr>\n",
       "  </tbody>\n",
       "</table>\n",
       "</div>"
      ],
      "text/plain": [
       "  authorized_flag          card_id  city_id category_1  installments  \\\n",
       "0               Y  C_ID_4e6213e9bc       88          N             0   \n",
       "1               Y  C_ID_4e6213e9bc       88          N             0   \n",
       "2               Y  C_ID_4e6213e9bc       88          N             0   \n",
       "\n",
       "  category_3  merchant_category_id      merchant_id  month_lag  \\\n",
       "0          A                    80  M_ID_e020e9b302         -8   \n",
       "1          A                   367  M_ID_86ec983688         -7   \n",
       "2          A                    80  M_ID_979ed661fc         -6   \n",
       "\n",
       "   purchase_amount       purchase_date category_2  state_id  subsector_id  \\\n",
       "0        -0.703331 2017-06-25 15:33:07        1.0        16            37   \n",
       "1        -0.733128 2017-07-15 12:10:45        1.0        16            16   \n",
       "2        -0.720386 2017-08-09 22:04:29        1.0        16            37   \n",
       "\n",
       "   new_merchant_flag  year  month  day  hour  \n",
       "0              False  2017      6   25    15  \n",
       "1              False  2017      7   15    12  \n",
       "2              False  2017      8    9    22  "
      ]
     },
     "execution_count": 40,
     "metadata": {},
     "output_type": "execute_result"
    }
   ],
   "source": [
    "# Taking a look at the data before encoding\n",
    "transactions.head(3)"
   ]
  },
  {
   "cell_type": "code",
   "execution_count": 38,
   "id": "863c2e14",
   "metadata": {},
   "outputs": [
    {
     "ename": "ValueError",
     "evalue": "new categories must not include old categories: {'NA'}",
     "output_type": "error",
     "traceback": [
      "\u001b[1;31m---------------------------------------------------------------------------\u001b[0m",
      "\u001b[1;31mValueError\u001b[0m                                Traceback (most recent call last)",
      "\u001b[1;32mc:\\Users\\qaboo\\OneDrive\\Documents\\GitHub\\ML-Consumer-Loyalty-Score\\preprocessing.ipynb Cell 14\u001b[0m line \u001b[0;36m1\n\u001b[0;32m     <a href='vscode-notebook-cell:/c%3A/Users/qaboo/OneDrive/Documents/GitHub/ML-Consumer-Loyalty-Score/preprocessing.ipynb#X12sZmlsZQ%3D%3D?line=9'>10</a>\u001b[0m \u001b[39m# Maintain a column for NA values after OHE\u001b[39;00m\n\u001b[0;32m     <a href='vscode-notebook-cell:/c%3A/Users/qaboo/OneDrive/Documents/GitHub/ML-Consumer-Loyalty-Score/preprocessing.ipynb#X12sZmlsZQ%3D%3D?line=10'>11</a>\u001b[0m transactions[\u001b[39m'\u001b[39m\u001b[39mcategory_2\u001b[39m\u001b[39m'\u001b[39m] \u001b[39m=\u001b[39m transactions[\u001b[39m'\u001b[39m\u001b[39mcategory_2\u001b[39m\u001b[39m'\u001b[39m]\u001b[39m.\u001b[39mastype(\u001b[39m'\u001b[39m\u001b[39mcategory\u001b[39m\u001b[39m'\u001b[39m)\n\u001b[1;32m---> <a href='vscode-notebook-cell:/c%3A/Users/qaboo/OneDrive/Documents/GitHub/ML-Consumer-Loyalty-Score/preprocessing.ipynb#X12sZmlsZQ%3D%3D?line=11'>12</a>\u001b[0m transactions[\u001b[39m'\u001b[39m\u001b[39mcategory_2\u001b[39m\u001b[39m'\u001b[39m] \u001b[39m=\u001b[39m transactions[\u001b[39m'\u001b[39;49m\u001b[39mcategory_2\u001b[39;49m\u001b[39m'\u001b[39;49m]\u001b[39m.\u001b[39;49mcat\u001b[39m.\u001b[39;49madd_categories(\u001b[39m'\u001b[39;49m\u001b[39mNA\u001b[39;49m\u001b[39m'\u001b[39;49m)\n\u001b[0;32m     <a href='vscode-notebook-cell:/c%3A/Users/qaboo/OneDrive/Documents/GitHub/ML-Consumer-Loyalty-Score/preprocessing.ipynb#X12sZmlsZQ%3D%3D?line=12'>13</a>\u001b[0m transactions[\u001b[39m'\u001b[39m\u001b[39mcategory_2\u001b[39m\u001b[39m'\u001b[39m]\u001b[39m.\u001b[39mfillna(\u001b[39m'\u001b[39m\u001b[39mNA\u001b[39m\u001b[39m'\u001b[39m, inplace\u001b[39m=\u001b[39m\u001b[39mTrue\u001b[39;00m)\n\u001b[0;32m     <a href='vscode-notebook-cell:/c%3A/Users/qaboo/OneDrive/Documents/GitHub/ML-Consumer-Loyalty-Score/preprocessing.ipynb#X12sZmlsZQ%3D%3D?line=14'>15</a>\u001b[0m transactions[\u001b[39m'\u001b[39m\u001b[39mcategory_3\u001b[39m\u001b[39m'\u001b[39m] \u001b[39m=\u001b[39m transactions[\u001b[39m'\u001b[39m\u001b[39mcategory_3\u001b[39m\u001b[39m'\u001b[39m]\u001b[39m.\u001b[39mastype(\u001b[39m'\u001b[39m\u001b[39mcategory\u001b[39m\u001b[39m'\u001b[39m)\n",
      "File \u001b[1;32mc:\\Python311\\Lib\\site-packages\\pandas\\core\\accessor.py:112\u001b[0m, in \u001b[0;36mPandasDelegate._add_delegate_accessors.<locals>._create_delegator_method.<locals>.f\u001b[1;34m(self, *args, **kwargs)\u001b[0m\n\u001b[0;32m    111\u001b[0m \u001b[39mdef\u001b[39;00m \u001b[39mf\u001b[39m(\u001b[39mself\u001b[39m, \u001b[39m*\u001b[39margs, \u001b[39m*\u001b[39m\u001b[39m*\u001b[39mkwargs):\n\u001b[1;32m--> 112\u001b[0m     \u001b[39mreturn\u001b[39;00m \u001b[39mself\u001b[39;49m\u001b[39m.\u001b[39;49m_delegate_method(name, \u001b[39m*\u001b[39;49margs, \u001b[39m*\u001b[39;49m\u001b[39m*\u001b[39;49mkwargs)\n",
      "File \u001b[1;32mc:\\Python311\\Lib\\site-packages\\pandas\\core\\arrays\\categorical.py:2893\u001b[0m, in \u001b[0;36mCategoricalAccessor._delegate_method\u001b[1;34m(self, name, *args, **kwargs)\u001b[0m\n\u001b[0;32m   2890\u001b[0m \u001b[39mfrom\u001b[39;00m \u001b[39mpandas\u001b[39;00m \u001b[39mimport\u001b[39;00m Series\n\u001b[0;32m   2892\u001b[0m method \u001b[39m=\u001b[39m \u001b[39mgetattr\u001b[39m(\u001b[39mself\u001b[39m\u001b[39m.\u001b[39m_parent, name)\n\u001b[1;32m-> 2893\u001b[0m res \u001b[39m=\u001b[39m method(\u001b[39m*\u001b[39;49margs, \u001b[39m*\u001b[39;49m\u001b[39m*\u001b[39;49mkwargs)\n\u001b[0;32m   2894\u001b[0m \u001b[39mif\u001b[39;00m res \u001b[39mis\u001b[39;00m \u001b[39mnot\u001b[39;00m \u001b[39mNone\u001b[39;00m:\n\u001b[0;32m   2895\u001b[0m     \u001b[39mreturn\u001b[39;00m Series(res, index\u001b[39m=\u001b[39m\u001b[39mself\u001b[39m\u001b[39m.\u001b[39m_index, name\u001b[39m=\u001b[39m\u001b[39mself\u001b[39m\u001b[39m.\u001b[39m_name)\n",
      "File \u001b[1;32mc:\\Python311\\Lib\\site-packages\\pandas\\core\\arrays\\categorical.py:1303\u001b[0m, in \u001b[0;36mCategorical.add_categories\u001b[1;34m(self, new_categories)\u001b[0m\n\u001b[0;32m   1301\u001b[0m already_included \u001b[39m=\u001b[39m \u001b[39mset\u001b[39m(new_categories) \u001b[39m&\u001b[39m \u001b[39mset\u001b[39m(\u001b[39mself\u001b[39m\u001b[39m.\u001b[39mdtype\u001b[39m.\u001b[39mcategories)\n\u001b[0;32m   1302\u001b[0m \u001b[39mif\u001b[39;00m \u001b[39mlen\u001b[39m(already_included) \u001b[39m!=\u001b[39m \u001b[39m0\u001b[39m:\n\u001b[1;32m-> 1303\u001b[0m     \u001b[39mraise\u001b[39;00m \u001b[39mValueError\u001b[39;00m(\n\u001b[0;32m   1304\u001b[0m         \u001b[39mf\u001b[39m\u001b[39m\"\u001b[39m\u001b[39mnew categories must not include old categories: \u001b[39m\u001b[39m{\u001b[39;00malready_included\u001b[39m}\u001b[39;00m\u001b[39m\"\u001b[39m\n\u001b[0;32m   1305\u001b[0m     )\n\u001b[0;32m   1307\u001b[0m \u001b[39mif\u001b[39;00m \u001b[39mhasattr\u001b[39m(new_categories, \u001b[39m\"\u001b[39m\u001b[39mdtype\u001b[39m\u001b[39m\"\u001b[39m):\n\u001b[0;32m   1308\u001b[0m     \u001b[39mfrom\u001b[39;00m \u001b[39mpandas\u001b[39;00m \u001b[39mimport\u001b[39;00m Series\n",
      "\u001b[1;31mValueError\u001b[0m: new categories must not include old categories: {'NA'}"
     ]
    }
   ],
   "source": [
    "# One hot encode categorical features\n",
    "ohe_features = [\n",
    "    'authorized_flag',\n",
    "    'new_merchant_flag',\n",
    "    'category_1',\n",
    "    'category_2',\n",
    "    'category_3'\n",
    "]\n",
    "\n",
    "# Maintain a column for NA values after OHE\n",
    "transactions['category_2'] = transactions['category_2'].astype('category')\n",
    "transactions['category_2'] = transactions['category_2'].cat.add_categories('NA')\n",
    "transactions['category_2'].fillna('NA', inplace=True)\n",
    "\n",
    "transactions['category_3'] = transactions['category_3'].astype('category')\n",
    "transactions['category_3'] = transactions['category_3'].cat.add_categories('NA')\n",
    "transactions['category_3'].fillna('NA', inplace=True)\n",
    "\n",
    "# encoded_df = pd.get_dummies(transactions, columns=ohe_features, prefix=ohe_features, drop_first=True)"
   ]
  },
  {
   "cell_type": "code",
   "execution_count": 14,
   "id": "b0cbbfcf",
   "metadata": {},
   "outputs": [
    {
     "data": {
      "text/html": [
       "<div>\n",
       "<style scoped>\n",
       "    .dataframe tbody tr th:only-of-type {\n",
       "        vertical-align: middle;\n",
       "    }\n",
       "\n",
       "    .dataframe tbody tr th {\n",
       "        vertical-align: top;\n",
       "    }\n",
       "\n",
       "    .dataframe thead th {\n",
       "        text-align: right;\n",
       "    }\n",
       "</style>\n",
       "<table border=\"1\" class=\"dataframe\">\n",
       "  <thead>\n",
       "    <tr style=\"text-align: right;\">\n",
       "      <th></th>\n",
       "      <th>card_id</th>\n",
       "      <th>city_id</th>\n",
       "      <th>installments</th>\n",
       "      <th>merchant_category_id</th>\n",
       "      <th>merchant_id</th>\n",
       "      <th>month_lag</th>\n",
       "      <th>purchase_amount</th>\n",
       "      <th>purchase_date</th>\n",
       "      <th>state_id</th>\n",
       "      <th>subsector_id</th>\n",
       "      <th>...</th>\n",
       "      <th>category_2_1.0</th>\n",
       "      <th>category_2_2.0</th>\n",
       "      <th>category_2_3.0</th>\n",
       "      <th>category_2_4.0</th>\n",
       "      <th>category_2_5.0</th>\n",
       "      <th>category_2_NA</th>\n",
       "      <th>category_3_A</th>\n",
       "      <th>category_3_B</th>\n",
       "      <th>category_3_C</th>\n",
       "      <th>category_3_NA</th>\n",
       "    </tr>\n",
       "  </thead>\n",
       "  <tbody>\n",
       "    <tr>\n",
       "      <th>0</th>\n",
       "      <td>C_ID_4e6213e9bc</td>\n",
       "      <td>88</td>\n",
       "      <td>0</td>\n",
       "      <td>80</td>\n",
       "      <td>M_ID_e020e9b302</td>\n",
       "      <td>-8</td>\n",
       "      <td>-0.703331</td>\n",
       "      <td>2017-06-25 15:33:07</td>\n",
       "      <td>16</td>\n",
       "      <td>37</td>\n",
       "      <td>...</td>\n",
       "      <td>True</td>\n",
       "      <td>False</td>\n",
       "      <td>False</td>\n",
       "      <td>False</td>\n",
       "      <td>False</td>\n",
       "      <td>False</td>\n",
       "      <td>True</td>\n",
       "      <td>False</td>\n",
       "      <td>False</td>\n",
       "      <td>False</td>\n",
       "    </tr>\n",
       "    <tr>\n",
       "      <th>1</th>\n",
       "      <td>C_ID_4e6213e9bc</td>\n",
       "      <td>88</td>\n",
       "      <td>0</td>\n",
       "      <td>367</td>\n",
       "      <td>M_ID_86ec983688</td>\n",
       "      <td>-7</td>\n",
       "      <td>-0.733128</td>\n",
       "      <td>2017-07-15 12:10:45</td>\n",
       "      <td>16</td>\n",
       "      <td>16</td>\n",
       "      <td>...</td>\n",
       "      <td>True</td>\n",
       "      <td>False</td>\n",
       "      <td>False</td>\n",
       "      <td>False</td>\n",
       "      <td>False</td>\n",
       "      <td>False</td>\n",
       "      <td>True</td>\n",
       "      <td>False</td>\n",
       "      <td>False</td>\n",
       "      <td>False</td>\n",
       "    </tr>\n",
       "    <tr>\n",
       "      <th>2</th>\n",
       "      <td>C_ID_4e6213e9bc</td>\n",
       "      <td>88</td>\n",
       "      <td>0</td>\n",
       "      <td>80</td>\n",
       "      <td>M_ID_979ed661fc</td>\n",
       "      <td>-6</td>\n",
       "      <td>-0.720386</td>\n",
       "      <td>2017-08-09 22:04:29</td>\n",
       "      <td>16</td>\n",
       "      <td>37</td>\n",
       "      <td>...</td>\n",
       "      <td>True</td>\n",
       "      <td>False</td>\n",
       "      <td>False</td>\n",
       "      <td>False</td>\n",
       "      <td>False</td>\n",
       "      <td>False</td>\n",
       "      <td>True</td>\n",
       "      <td>False</td>\n",
       "      <td>False</td>\n",
       "      <td>False</td>\n",
       "    </tr>\n",
       "    <tr>\n",
       "      <th>3</th>\n",
       "      <td>C_ID_4e6213e9bc</td>\n",
       "      <td>88</td>\n",
       "      <td>0</td>\n",
       "      <td>560</td>\n",
       "      <td>M_ID_e6d5ae8ea6</td>\n",
       "      <td>-5</td>\n",
       "      <td>-0.735352</td>\n",
       "      <td>2017-09-02 10:06:26</td>\n",
       "      <td>16</td>\n",
       "      <td>34</td>\n",
       "      <td>...</td>\n",
       "      <td>True</td>\n",
       "      <td>False</td>\n",
       "      <td>False</td>\n",
       "      <td>False</td>\n",
       "      <td>False</td>\n",
       "      <td>False</td>\n",
       "      <td>True</td>\n",
       "      <td>False</td>\n",
       "      <td>False</td>\n",
       "      <td>False</td>\n",
       "    </tr>\n",
       "    <tr>\n",
       "      <th>4</th>\n",
       "      <td>C_ID_4e6213e9bc</td>\n",
       "      <td>88</td>\n",
       "      <td>0</td>\n",
       "      <td>80</td>\n",
       "      <td>M_ID_e020e9b302</td>\n",
       "      <td>-11</td>\n",
       "      <td>-0.722865</td>\n",
       "      <td>2017-03-10 01:14:19</td>\n",
       "      <td>16</td>\n",
       "      <td>37</td>\n",
       "      <td>...</td>\n",
       "      <td>True</td>\n",
       "      <td>False</td>\n",
       "      <td>False</td>\n",
       "      <td>False</td>\n",
       "      <td>False</td>\n",
       "      <td>False</td>\n",
       "      <td>True</td>\n",
       "      <td>False</td>\n",
       "      <td>False</td>\n",
       "      <td>False</td>\n",
       "    </tr>\n",
       "  </tbody>\n",
       "</table>\n",
       "<p>5 rows × 25 columns</p>\n",
       "</div>"
      ],
      "text/plain": [
       "           card_id  city_id  installments  merchant_category_id  \\\n",
       "0  C_ID_4e6213e9bc       88             0                    80   \n",
       "1  C_ID_4e6213e9bc       88             0                   367   \n",
       "2  C_ID_4e6213e9bc       88             0                    80   \n",
       "3  C_ID_4e6213e9bc       88             0                   560   \n",
       "4  C_ID_4e6213e9bc       88             0                    80   \n",
       "\n",
       "       merchant_id  month_lag  purchase_amount        purchase_date  state_id  \\\n",
       "0  M_ID_e020e9b302         -8        -0.703331  2017-06-25 15:33:07        16   \n",
       "1  M_ID_86ec983688         -7        -0.733128  2017-07-15 12:10:45        16   \n",
       "2  M_ID_979ed661fc         -6        -0.720386  2017-08-09 22:04:29        16   \n",
       "3  M_ID_e6d5ae8ea6         -5        -0.735352  2017-09-02 10:06:26        16   \n",
       "4  M_ID_e020e9b302        -11        -0.722865  2017-03-10 01:14:19        16   \n",
       "\n",
       "   subsector_id  ...  category_2_1.0  category_2_2.0  category_2_3.0  \\\n",
       "0            37  ...            True           False           False   \n",
       "1            16  ...            True           False           False   \n",
       "2            37  ...            True           False           False   \n",
       "3            34  ...            True           False           False   \n",
       "4            37  ...            True           False           False   \n",
       "\n",
       "   category_2_4.0  category_2_5.0  category_2_NA  category_3_A  category_3_B  \\\n",
       "0           False           False          False          True         False   \n",
       "1           False           False          False          True         False   \n",
       "2           False           False          False          True         False   \n",
       "3           False           False          False          True         False   \n",
       "4           False           False          False          True         False   \n",
       "\n",
       "   category_3_C  category_3_NA  \n",
       "0         False          False  \n",
       "1         False          False  \n",
       "2         False          False  \n",
       "3         False          False  \n",
       "4         False          False  \n",
       "\n",
       "[5 rows x 25 columns]"
      ]
     },
     "execution_count": 14,
     "metadata": {},
     "output_type": "execute_result"
    }
   ],
   "source": [
    "encoded_df.head()"
   ]
  },
  {
   "cell_type": "code",
   "execution_count": 15,
   "id": "fbe15abd",
   "metadata": {},
   "outputs": [],
   "source": [
    "encoded_df['new_merchant_flag'] = encoded_df['new_merchant_flag'].astype(bool)"
   ]
  },
  {
   "cell_type": "code",
   "execution_count": 22,
   "id": "da6e54ee",
   "metadata": {},
   "outputs": [
    {
     "data": {
      "text/plain": [
       "card_id                 0\n",
       "city_id                 0\n",
       "installments            0\n",
       "merchant_category_id    0\n",
       "merchant_id             0\n",
       "month_lag               0\n",
       "purchase_amount         0\n",
       "purchase_date           0\n",
       "state_id                0\n",
       "subsector_id            0\n",
       "new_merchant_flag       0\n",
       "authorized_flag_N       0\n",
       "authorized_flag_Y       0\n",
       "category_1_N            0\n",
       "category_1_Y            0\n",
       "category_2_1.0          0\n",
       "category_2_2.0          0\n",
       "category_2_3.0          0\n",
       "category_2_4.0          0\n",
       "category_2_5.0          0\n",
       "category_2_NA           0\n",
       "category_3_A            0\n",
       "category_3_B            0\n",
       "category_3_C            0\n",
       "category_3_NA           0\n",
       "dtype: int64"
      ]
     },
     "execution_count": 22,
     "metadata": {},
     "output_type": "execute_result"
    }
   ],
   "source": [
    "encoded_df.isna().sum()"
   ]
  },
  {
   "cell_type": "code",
   "execution_count": 25,
   "id": "442ff3cb",
   "metadata": {},
   "outputs": [
    {
     "name": "stdout",
     "output_type": "stream",
     "text": [
      "city_id  :  -1   347\n",
      "installments  :  -1   999\n",
      "merchant_category_id  :  -1   891\n",
      "month_lag  :  -13   2\n",
      "state_id  :  -1   24\n",
      "subsector_id  :  -1   41\n"
     ]
    }
   ],
   "source": [
    "int64_features = ['city_id', 'installments', 'merchant_category_id', 'month_lag', 'state_id', 'subsector_id']\n",
    "\n",
    "for feature in int64_features:\n",
    "    print(feature, \" : \", encoded_df[feature].min(), \" \", encoded_df[feature].max())\n"
   ]
  },
  {
   "cell_type": "code",
   "execution_count": 26,
   "id": "2b95387f",
   "metadata": {},
   "outputs": [],
   "source": [
    "for feature in int64_features:\n",
    "    encoded_df[feature] = encoded_df[feature].astype(np.int16)"
   ]
  },
  {
   "cell_type": "code",
   "execution_count": 27,
   "id": "8acbc59a",
   "metadata": {},
   "outputs": [
    {
     "data": {
      "text/plain": [
       "card_id                  object\n",
       "city_id                   int16\n",
       "installments              int16\n",
       "merchant_category_id      int16\n",
       "merchant_id              object\n",
       "month_lag                 int16\n",
       "purchase_amount         float64\n",
       "purchase_date            object\n",
       "state_id                  int16\n",
       "subsector_id              int16\n",
       "new_merchant_flag          bool\n",
       "authorized_flag_N          bool\n",
       "authorized_flag_Y          bool\n",
       "category_1_N               bool\n",
       "category_1_Y               bool\n",
       "category_2_1.0             bool\n",
       "category_2_2.0             bool\n",
       "category_2_3.0             bool\n",
       "category_2_4.0             bool\n",
       "category_2_5.0             bool\n",
       "category_2_NA              bool\n",
       "category_3_A               bool\n",
       "category_3_B               bool\n",
       "category_3_C               bool\n",
       "category_3_NA              bool\n",
       "dtype: object"
      ]
     },
     "execution_count": 27,
     "metadata": {},
     "output_type": "execute_result"
    }
   ],
   "source": [
    "encoded_df.dtypes"
   ]
  },
  {
   "cell_type": "code",
   "execution_count": 29,
   "id": "8d36f0cd",
   "metadata": {},
   "outputs": [
    {
     "name": "stdout",
     "output_type": "stream",
     "text": [
      "<class 'pandas.core.frame.DataFrame'>\n",
      "Index: 30910695 entries, 0 to 31075391\n",
      "Data columns (total 25 columns):\n",
      " #   Column                Dtype  \n",
      "---  ------                -----  \n",
      " 0   card_id               object \n",
      " 1   city_id               int16  \n",
      " 2   installments          int16  \n",
      " 3   merchant_category_id  int16  \n",
      " 4   merchant_id           object \n",
      " 5   month_lag             int16  \n",
      " 6   purchase_amount       float64\n",
      " 7   purchase_date         object \n",
      " 8   state_id              int16  \n",
      " 9   subsector_id          int16  \n",
      " 10  new_merchant_flag     bool   \n",
      " 11  authorized_flag_N     bool   \n",
      " 12  authorized_flag_Y     bool   \n",
      " 13  category_1_N          bool   \n",
      " 14  category_1_Y          bool   \n",
      " 15  category_2_1.0        bool   \n",
      " 16  category_2_2.0        bool   \n",
      " 17  category_2_3.0        bool   \n",
      " 18  category_2_4.0        bool   \n",
      " 19  category_2_5.0        bool   \n",
      " 20  category_2_NA         bool   \n",
      " 21  category_3_A          bool   \n",
      " 22  category_3_B          bool   \n",
      " 23  category_3_C          bool   \n",
      " 24  category_3_NA         bool   \n",
      "dtypes: bool(15), float64(1), int16(6), object(3)\n",
      "memory usage: 7.6 GB\n"
     ]
    }
   ],
   "source": [
    "encoded_df.info(memory_usage='deep')"
   ]
  },
  {
   "cell_type": "code",
   "execution_count": 30,
   "id": "2ce03c0d",
   "metadata": {},
   "outputs": [
    {
     "name": "stdout",
     "output_type": "stream",
     "text": [
      "<class 'pandas.core.frame.DataFrame'>\n",
      "Index: 30910695 entries, 0 to 31075391\n",
      "Data columns (total 19 columns):\n",
      " #   Column                 Dtype         \n",
      "---  ------                 -----         \n",
      " 0   authorized_flag        object        \n",
      " 1   card_id                object        \n",
      " 2   city_id                int64         \n",
      " 3   category_1             object        \n",
      " 4   installments           int64         \n",
      " 5   category_3             object        \n",
      " 6   merchant_category_id   int64         \n",
      " 7   merchant_id            object        \n",
      " 8   month_lag              int64         \n",
      " 9   purchase_amount        float64       \n",
      " 10  purchase_date          datetime64[ns]\n",
      " 11  category_2             object        \n",
      " 12  state_id               int64         \n",
      " 13  subsector_id           int64         \n",
      " 14  new_merchant_flag      int64         \n",
      " 15  purchase_month         int32         \n",
      " 16  purchase_year          int32         \n",
      " 17  purchase_hour_section  int32         \n",
      " 18  purchase_day           int64         \n",
      "dtypes: datetime64[ns](1), float64(1), int32(3), int64(8), object(6)\n",
      "memory usage: 13.0 GB\n"
     ]
    }
   ],
   "source": [
    "transactions.info(memory_usage='deep')"
   ]
  },
  {
   "cell_type": "code",
   "execution_count": 34,
   "id": "ffca455b",
   "metadata": {},
   "outputs": [],
   "source": [
    "encoded_df.drop(columns=['authorized_flag_N', 'category_1_N', 'category_2_NA', 'category_3_NA'], inplace=True)"
   ]
  },
  {
   "cell_type": "code",
   "execution_count": 35,
   "id": "e9babaf7",
   "metadata": {},
   "outputs": [
    {
     "name": "stdout",
     "output_type": "stream",
     "text": [
      "<class 'pandas.core.frame.DataFrame'>\n",
      "Index: 30910695 entries, 0 to 31075391\n",
      "Data columns (total 21 columns):\n",
      " #   Column                Dtype  \n",
      "---  ------                -----  \n",
      " 0   card_id               object \n",
      " 1   city_id               int16  \n",
      " 2   installments          int16  \n",
      " 3   merchant_category_id  int16  \n",
      " 4   merchant_id           object \n",
      " 5   month_lag             int16  \n",
      " 6   purchase_amount       float64\n",
      " 7   purchase_date         object \n",
      " 8   state_id              int16  \n",
      " 9   subsector_id          int16  \n",
      " 10  new_merchant_flag     bool   \n",
      " 11  authorized_flag_Y     bool   \n",
      " 12  category_1_Y          bool   \n",
      " 13  category_2_1.0        bool   \n",
      " 14  category_2_2.0        bool   \n",
      " 15  category_2_3.0        bool   \n",
      " 16  category_2_4.0        bool   \n",
      " 17  category_2_5.0        bool   \n",
      " 18  category_3_A          bool   \n",
      " 19  category_3_B          bool   \n",
      " 20  category_3_C          bool   \n",
      "dtypes: bool(11), float64(1), int16(6), object(3)\n",
      "memory usage: 7.5 GB\n"
     ]
    }
   ],
   "source": [
    "encoded_df.info(memory_usage='deep')"
   ]
  }
 ],
 "metadata": {
  "kernelspec": {
   "display_name": "Python 3 (ipykernel)",
   "language": "python",
   "name": "python3"
  },
  "language_info": {
   "codemirror_mode": {
    "name": "ipython",
    "version": 3
   },
   "file_extension": ".py",
   "mimetype": "text/x-python",
   "name": "python",
   "nbconvert_exporter": "python",
   "pygments_lexer": "ipython3",
   "version": "3.11.2"
  }
 },
 "nbformat": 4,
 "nbformat_minor": 5
}
